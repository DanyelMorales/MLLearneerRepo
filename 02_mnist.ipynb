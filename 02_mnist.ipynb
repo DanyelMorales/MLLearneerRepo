{
  "nbformat": 4,
  "nbformat_minor": 0,
  "metadata": {
    "colab": {
      "provenance": [],
      "authorship_tag": "ABX9TyPCwW11LbhWNuKmomHmmUCs",
      "include_colab_link": true
    },
    "kernelspec": {
      "name": "python3",
      "display_name": "Python 3"
    },
    "language_info": {
      "name": "python"
    }
  },
  "cells": [
    {
      "cell_type": "markdown",
      "metadata": {
        "id": "view-in-github",
        "colab_type": "text"
      },
      "source": [
        "<a href=\"https://colab.research.google.com/github/DanyelMorales/MLLearneerRepo/blob/main/02_mnist.ipynb\" target=\"_parent\"><img src=\"https://colab.research.google.com/assets/colab-badge.svg\" alt=\"Open In Colab\"/></a>"
      ]
    },
    {
      "cell_type": "code",
      "source": [
        "!curl -o \"train-images-idx3-ubyte.gz\" \"https://raw.githubusercontent.com/DanyelMorales/MLLearneerRepo/main/dataset/train-images-idx3-ubyte.gz\""
      ],
      "metadata": {
        "colab": {
          "base_uri": "https://localhost:8080/"
        },
        "id": "lgPBM3Z8-WNS",
        "outputId": "31937c63-9416-4fec-cd38-a2e9d18bc13b"
      },
      "execution_count": 17,
      "outputs": [
        {
          "output_type": "stream",
          "name": "stdout",
          "text": [
            "  % Total    % Received % Xferd  Average Speed   Time    Time     Time  Current\n",
            "                                 Dload  Upload   Total   Spent    Left  Speed\n",
            "100 9680k  100 9680k    0     0  12.5M      0 --:--:-- --:--:-- --:--:-- 12.5M\n"
          ]
        }
      ]
    },
    {
      "cell_type": "code",
      "source": [
        "!curl -o \"t10k-images-idx3-ubyte.gz\" \"https://raw.githubusercontent.com/DanyelMorales/MLLearneerRepo/main/dataset/t10k-images-idx3-ubyte.gz\""
      ],
      "metadata": {
        "colab": {
          "base_uri": "https://localhost:8080/"
        },
        "id": "P6qyHHgk-cxD",
        "outputId": "3f5d56e3-2e8c-4379-b2bc-4e7934db211f"
      },
      "execution_count": 18,
      "outputs": [
        {
          "output_type": "stream",
          "name": "stdout",
          "text": [
            "  % Total    % Received % Xferd  Average Speed   Time    Time     Time  Current\n",
            "                                 Dload  Upload   Total   Spent    Left  Speed\n",
            "100 1610k  100 1610k    0     0  2487k      0 --:--:-- --:--:-- --:--:-- 2484k\n"
          ]
        }
      ]
    },
    {
      "cell_type": "code",
      "source": [
        "!curl -o \"train-labels-idx1-ubyte.gz\" \"https://raw.githubusercontent.com/DanyelMorales/MLLearneerRepo/main/dataset/train-labels-idx1-ubyte.gz\""
      ],
      "metadata": {
        "colab": {
          "base_uri": "https://localhost:8080/"
        },
        "id": "yW5YK1bLiKTr",
        "outputId": "6d5ecbe1-6cb6-4c73-ec1a-95302c4e95ee"
      },
      "execution_count": 19,
      "outputs": [
        {
          "output_type": "stream",
          "name": "stdout",
          "text": [
            "  % Total    % Received % Xferd  Average Speed   Time    Time     Time  Current\n",
            "                                 Dload  Upload   Total   Spent    Left  Speed\n",
            "100 28881  100 28881    0     0  61265      0 --:--:-- --:--:-- --:--:-- 61188\n"
          ]
        }
      ]
    },
    {
      "cell_type": "code",
      "source": [
        "!curl -o \"t10k-labels-idx1-ubyte.gz\" \"https://raw.githubusercontent.com/DanyelMorales/MLLearneerRepo/main/dataset/t10k-labels-idx1-ubyte.gz\""
      ],
      "metadata": {
        "colab": {
          "base_uri": "https://localhost:8080/"
        },
        "id": "NyqqE8MQizyb",
        "outputId": "364d5f0e-f0f8-4a90-d75e-86194eff7feb"
      },
      "execution_count": 20,
      "outputs": [
        {
          "output_type": "stream",
          "name": "stdout",
          "text": [
            "  % Total    % Received % Xferd  Average Speed   Time    Time     Time  Current\n",
            "                                 Dload  Upload   Total   Spent    Left  Speed\n",
            "100  4542  100  4542    0     0  10276      0 --:--:-- --:--:-- --:--:-- 10299\n"
          ]
        }
      ]
    },
    {
      "cell_type": "code",
      "source": [
        "!curl -o \"mnist.py\" \"https://raw.githubusercontent.com/DanyelMorales/MLLearneerRepo/main/lib/mnist.py\""
      ],
      "metadata": {
        "colab": {
          "base_uri": "https://localhost:8080/"
        },
        "id": "XNFxE90po5WY",
        "outputId": "13cf1392-0a2d-40c8-9c78-53092f49f39e"
      },
      "execution_count": 21,
      "outputs": [
        {
          "output_type": "stream",
          "name": "stdout",
          "text": [
            "  % Total    % Received % Xferd  Average Speed   Time    Time     Time  Current\n",
            "                                 Dload  Upload   Total   Spent    Left  Speed\n",
            "100  1003  100  1003    0     0   2267      0 --:--:-- --:--:-- --:--:--  2264\n"
          ]
        }
      ]
    },
    {
      "cell_type": "code",
      "source": [
        "!curl -o \"digit_classifier.py\" \"https://raw.githubusercontent.com/DanyelMorales/MLLearneerRepo/main/lib/digit_classifier.py\""
      ],
      "metadata": {
        "colab": {
          "base_uri": "https://localhost:8080/"
        },
        "id": "MB-pPzdsqj59",
        "outputId": "d9a6f8b4-b497-40a0-d455-64354d3e4e5b"
      },
      "execution_count": 22,
      "outputs": [
        {
          "output_type": "stream",
          "name": "stdout",
          "text": [
            "  % Total    % Received % Xferd  Average Speed   Time    Time     Time  Current\n",
            "                                 Dload  Upload   Total   Spent    Left  Speed\n",
            "100   892  100   892    0     0   2042      0 --:--:-- --:--:-- --:--:--  2045\n"
          ]
        }
      ]
    },
    {
      "cell_type": "code",
      "execution_count": 23,
      "metadata": {
        "id": "9gk-M90M6gpD"
      },
      "outputs": [],
      "source": [
        "from mnist import prepend_bias, load_images, load_labels,encode_fives\n",
        "import digit_classifier"
      ]
    },
    {
      "cell_type": "code",
      "source": [
        "\n",
        "X_train = prepend_bias(load_images(\"train-images-idx3-ubyte.gz\"))\n",
        "X_test = prepend_bias(load_images(\"t10k-images-idx3-ubyte.gz\"))\n",
        "Y_train = encode_fives(load_labels(\"train-labels-idx1-ubyte.gz\"))\n",
        "Y_test = encode_fives(load_labels(\"t10k-labels-idx1-ubyte.gz\"))"
      ],
      "metadata": {
        "id": "Lg1p-3hlkUVg"
      },
      "execution_count": 24,
      "outputs": []
    },
    {
      "cell_type": "code",
      "source": [
        "w = digit_classifier.train(X_train,Y_train, iterations=100, lr=1e-5)"
      ],
      "metadata": {
        "colab": {
          "base_uri": "https://localhost:8080/"
        },
        "id": "Q-7u3wmhlYcW",
        "outputId": "efa964b2-c72f-4e5e-c913-7f5870a453e1"
      },
      "execution_count": 25,
      "outputs": [
        {
          "output_type": "stream",
          "name": "stdout",
          "text": [
            "iteration 0 => loss 0.25\n",
            "iteration 1 => loss 0.09014895733372534\n",
            "iteration 2 => loss 0.08962224483364598\n",
            "iteration 3 => loss 0.08719334992039306\n",
            "iteration 4 => loss 0.07651882635488752\n",
            "iteration 5 => loss 0.06162337522907049\n",
            "iteration 6 => loss 0.06140848979140523\n",
            "iteration 7 => loss 0.057558737486472875\n",
            "iteration 8 => loss 0.05688381524034008\n",
            "iteration 9 => loss 0.0543922363013758\n",
            "iteration 10 => loss 0.05347553292452969\n",
            "iteration 11 => loss 0.05179711691790266\n",
            "iteration 12 => loss 0.05083208510009458\n",
            "iteration 13 => loss 0.0496199897157515\n",
            "iteration 14 => loss 0.04871753379249362\n",
            "iteration 15 => loss 0.047776508698129425\n",
            "iteration 16 => loss 0.04697714116945864\n",
            "iteration 17 => loss 0.046206026607263\n",
            "iteration 18 => loss 0.04551130484662176\n",
            "iteration 19 => loss 0.044858037666305785\n",
            "iteration 20 => loss 0.044254953959878274\n",
            "iteration 21 => loss 0.04369047272024014\n",
            "iteration 22 => loss 0.04316367380147336\n",
            "iteration 23 => loss 0.04266953200129313\n",
            "iteration 24 => loss 0.042205543176945165\n",
            "iteration 25 => loss 0.041768686116667036\n",
            "iteration 26 => loss 0.04135664360483692\n",
            "iteration 27 => loss 0.0409672245446162\n",
            "iteration 28 => loss 0.04059853991610969\n",
            "iteration 29 => loss 0.04024888602040922\n",
            "iteration 30 => loss 0.03991674890154662\n",
            "iteration 31 => loss 0.03960076919252433\n",
            "iteration 32 => loss 0.03929972645932479\n",
            "iteration 33 => loss 0.039012520759720636\n",
            "iteration 34 => loss 0.03873815858960654\n",
            "iteration 35 => loss 0.038475740209492355\n",
            "iteration 36 => loss 0.03822444889932572\n",
            "iteration 37 => loss 0.03798354159542587\n",
            "iteration 38 => loss 0.03775234077724584\n",
            "iteration 39 => loss 0.03753022739396308\n",
            "iteration 40 => loss 0.037316634685845326\n",
            "iteration 41 => loss 0.03711104276997921\n",
            "iteration 42 => loss 0.03691297388329584\n",
            "iteration 43 => loss 0.036721988191902526\n",
            "iteration 44 => loss 0.036537680089934646\n",
            "iteration 45 => loss 0.03635967492271316\n",
            "iteration 46 => loss 0.03618762607870599\n",
            "iteration 47 => loss 0.03602121240290224\n",
            "iteration 48 => loss 0.03586013589101914\n",
            "iteration 49 => loss 0.035704119629694955\n",
            "iteration 50 => loss 0.035552905952662216\n",
            "iteration 51 => loss 0.035406254786996084\n",
            "iteration 52 => loss 0.03526394216701397\n",
            "iteration 53 => loss 0.03512575889636931\n",
            "iteration 54 => loss 0.034991509341414005\n",
            "iteration 55 => loss 0.03486101034107321\n",
            "iteration 56 => loss 0.03473409022033753\n",
            "iteration 57 => loss 0.03461058789607948\n",
            "iteration 58 => loss 0.03449035206528326\n",
            "iteration 59 => loss 0.03437324046697153\n",
            "iteration 60 => loss 0.034259119210148736\n",
            "iteration 61 => loss 0.034147862160979606\n",
            "iteration 62 => loss 0.03403935038320462\n",
            "iteration 63 => loss 0.0339334716264768\n",
            "iteration 64 => loss 0.03383011985790131\n",
            "iteration 65 => loss 0.0337291948325814\n",
            "iteration 66 => loss 0.033630601699433355\n",
            "iteration 67 => loss 0.03353425063893581\n",
            "iteration 68 => loss 0.03344005652983339\n",
            "iteration 69 => loss 0.03334793864212841\n",
            "iteration 70 => loss 0.03325782035397031\n",
            "iteration 71 => loss 0.033169628890297446\n",
            "iteration 72 => loss 0.033083295081303296\n",
            "iteration 73 => loss 0.03299875313899118\n",
            "iteration 74 => loss 0.03291594045025341\n",
            "iteration 75 => loss 0.0328347973850632\n",
            "iteration 76 => loss 0.03275526711850371\n",
            "iteration 77 => loss 0.03267729546548009\n",
            "iteration 78 => loss 0.03260083072706924\n",
            "iteration 79 => loss 0.032525823547559216\n",
            "iteration 80 => loss 0.03245222678131738\n",
            "iteration 81 => loss 0.032379995368704825\n",
            "iteration 82 => loss 0.03230908622032527\n",
            "iteration 83 => loss 0.03223945810895939\n",
            "iteration 84 => loss 0.03217107156859352\n",
            "iteration 85 => loss 0.032103888800002305\n",
            "iteration 86 => loss 0.03203787358239207\n",
            "iteration 87 => loss 0.031972991190653534\n",
            "iteration 88 => loss 0.03190920831781056\n",
            "iteration 89 => loss 0.03184649300228591\n",
            "iteration 90 => loss 0.03178481455963709\n",
            "iteration 91 => loss 0.03172414351844256\n",
            "iteration 92 => loss 0.031664451560045735\n",
            "iteration 93 => loss 0.0316057114618865\n",
            "iteration 94 => loss 0.031547897044172456\n",
            "iteration 95 => loss 0.031490983119660663\n",
            "iteration 96 => loss 0.031434945446339284\n",
            "iteration 97 => loss 0.03137976068281406\n",
            "iteration 98 => loss 0.03132540634622004\n",
            "iteration 99 => loss 0.03127186077249212\n"
          ]
        }
      ]
    },
    {
      "cell_type": "code",
      "source": [
        "digit_classifier.test(X_test, Y_test, w)"
      ],
      "metadata": {
        "id": "af_Vtzu6y6wS",
        "outputId": "ed86ea1d-a7d7-4704-9c5f-ca69ed540cad",
        "colab": {
          "base_uri": "https://localhost:8080/"
        }
      },
      "execution_count": 27,
      "outputs": [
        {
          "output_type": "stream",
          "name": "stdout",
          "text": [
            "Success: 9637 10000 96.37\n"
          ]
        }
      ]
    }
  ]
}