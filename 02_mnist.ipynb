{
  "nbformat": 4,
  "nbformat_minor": 0,
  "metadata": {
    "colab": {
      "provenance": [],
      "authorship_tag": "ABX9TyO8DM5XcVKkEE5t+eO8og80",
      "include_colab_link": true
    },
    "kernelspec": {
      "name": "python3",
      "display_name": "Python 3"
    },
    "language_info": {
      "name": "python"
    }
  },
  "cells": [
    {
      "cell_type": "markdown",
      "metadata": {
        "id": "view-in-github",
        "colab_type": "text"
      },
      "source": [
        "<a href=\"https://colab.research.google.com/github/DanyelMorales/MLLearneerRepo/blob/main/02_mnist.ipynb\" target=\"_parent\"><img src=\"https://colab.research.google.com/assets/colab-badge.svg\" alt=\"Open In Colab\"/></a>"
      ]
    },
    {
      "cell_type": "code",
      "source": [
        "!curl -o \"train-images-idx3-ubyte.gz\" \"https://raw.githubusercontent.com/DanyelMorales/MLLearneerRepo/main/dataset/train-images-idx3-ubyte.gz\""
      ],
      "metadata": {
        "colab": {
          "base_uri": "https://localhost:8080/"
        },
        "id": "lgPBM3Z8-WNS",
        "outputId": "6c06e86b-694c-4b42-dd97-44ddb8fc0ced"
      },
      "execution_count": 113,
      "outputs": [
        {
          "output_type": "stream",
          "name": "stdout",
          "text": [
            "  % Total    % Received % Xferd  Average Speed   Time    Time     Time  Current\n",
            "                                 Dload  Upload   Total   Spent    Left  Speed\n",
            "100 9680k  100 9680k    0     0  8368k      0  0:00:01  0:00:01 --:--:-- 8373k\n"
          ]
        }
      ]
    },
    {
      "cell_type": "code",
      "source": [
        "!curl -o \"t10k-images-idx3-ubyte.gz\" \"https://raw.githubusercontent.com/DanyelMorales/MLLearneerRepo/main/dataset/t10k-images-idx3-ubyte.gz\""
      ],
      "metadata": {
        "colab": {
          "base_uri": "https://localhost:8080/"
        },
        "id": "P6qyHHgk-cxD",
        "outputId": "14830775-b32f-4ff8-bb66-61a7e41c0b03"
      },
      "execution_count": 114,
      "outputs": [
        {
          "output_type": "stream",
          "name": "stdout",
          "text": [
            "  % Total    % Received % Xferd  Average Speed   Time    Time     Time  Current\n",
            "                                 Dload  Upload   Total   Spent    Left  Speed\n",
            "100 1610k  100 1610k    0     0  3427k      0 --:--:-- --:--:-- --:--:-- 3433k\n"
          ]
        }
      ]
    },
    {
      "cell_type": "code",
      "source": [
        "!curl -o \"train-labels-idx1-ubyte.gz\" \"https://raw.githubusercontent.com/DanyelMorales/MLLearneerRepo/main/dataset/train-labels-idx1-ubyte.gz\""
      ],
      "metadata": {
        "colab": {
          "base_uri": "https://localhost:8080/"
        },
        "id": "yW5YK1bLiKTr",
        "outputId": "9864f2cc-464b-4a40-9e93-5c82f7514306"
      },
      "execution_count": 115,
      "outputs": [
        {
          "output_type": "stream",
          "name": "stdout",
          "text": [
            "  % Total    % Received % Xferd  Average Speed   Time    Time     Time  Current\n",
            "                                 Dload  Upload   Total   Spent    Left  Speed\n",
            "100 28881  100 28881    0     0  97552      0 --:--:-- --:--:-- --:--:-- 97901\n"
          ]
        }
      ]
    },
    {
      "cell_type": "code",
      "source": [
        "!curl -o \"t10k-labels-idx1-ubyte.gz\" \"https://raw.githubusercontent.com/DanyelMorales/MLLearneerRepo/main/dataset/t10k-labels-idx1-ubyte.gz\""
      ],
      "metadata": {
        "colab": {
          "base_uri": "https://localhost:8080/"
        },
        "id": "NyqqE8MQizyb",
        "outputId": "007b2403-a610-4980-eb5a-fee024032268"
      },
      "execution_count": 116,
      "outputs": [
        {
          "output_type": "stream",
          "name": "stdout",
          "text": [
            "  % Total    % Received % Xferd  Average Speed   Time    Time     Time  Current\n",
            "                                 Dload  Upload   Total   Spent    Left  Speed\n",
            "100  4542  100  4542    0     0  16920      0 --:--:-- --:--:-- --:--:-- 16884\n"
          ]
        }
      ]
    },
    {
      "cell_type": "code",
      "source": [
        "!curl -o \"mnist.py\" \"https://raw.githubusercontent.com/DanyelMorales/MLLearneerRepo/main/lib/mnist.py\""
      ],
      "metadata": {
        "colab": {
          "base_uri": "https://localhost:8080/"
        },
        "id": "XNFxE90po5WY",
        "outputId": "b864611d-813c-4d93-b5b2-5c5ef322d305"
      },
      "execution_count": 117,
      "outputs": [
        {
          "output_type": "stream",
          "name": "stdout",
          "text": [
            "  % Total    % Received % Xferd  Average Speed   Time    Time     Time  Current\n",
            "                                 Dload  Upload   Total   Spent    Left  Speed\n",
            "100  1205  100  1205    0     0   4465      0 --:--:-- --:--:-- --:--:--  4479\n"
          ]
        }
      ]
    },
    {
      "cell_type": "code",
      "source": [
        "!curl -o \"digit_classifier.py\" \"https://raw.githubusercontent.com/DanyelMorales/MLLearneerRepo/main/lib/digit_classifier.py\""
      ],
      "metadata": {
        "colab": {
          "base_uri": "https://localhost:8080/"
        },
        "id": "MB-pPzdsqj59",
        "outputId": "ec02d3c4-a6ad-44c3-d6e0-549d88e97fc0"
      },
      "execution_count": 118,
      "outputs": [
        {
          "output_type": "stream",
          "name": "stdout",
          "text": [
            "  % Total    % Received % Xferd  Average Speed   Time    Time     Time  Current\n",
            "                                 Dload  Upload   Total   Spent    Left  Speed\n",
            "100  1481  100  1481    0     0   5734      0 --:--:-- --:--:-- --:--:--  5740\n"
          ]
        }
      ]
    },
    {
      "cell_type": "code",
      "execution_count": 119,
      "metadata": {
        "id": "9gk-M90M6gpD"
      },
      "outputs": [],
      "source": [
        "from mnist import prepend_bias, load_images, load_labels,one_hot_encode\n",
        "import digit_classifier"
      ]
    },
    {
      "cell_type": "code",
      "source": [
        "\n",
        "X_train = prepend_bias(load_images(\"train-images-idx3-ubyte.gz\"))\n",
        "X_test = prepend_bias(load_images(\"t10k-images-idx3-ubyte.gz\"))\n",
        "Y_train = one_hot_encode(load_labels(\"train-labels-idx1-ubyte.gz\"))\n",
        "Y_test = (load_labels(\"t10k-labels-idx1-ubyte.gz\"))"
      ],
      "metadata": {
        "id": "Lg1p-3hlkUVg"
      },
      "execution_count": 120,
      "outputs": []
    },
    {
      "cell_type": "code",
      "source": [
        "w = digit_classifier.train(X_train,Y_train,X_test,Y_test, iterations=200, lr=1e-5)"
      ],
      "metadata": {
        "colab": {
          "base_uri": "https://localhost:8080/"
        },
        "id": "Q-7u3wmhlYcW",
        "outputId": "c1253aee-c2a8-424e-aa5e-d1af5bf71ba9"
      },
      "execution_count": 121,
      "outputs": [
        {
          "output_type": "stream",
          "name": "stdout",
          "text": [
            "0 - Loss: 6.931471805599454, \n",
            " 9.8%\n",
            "1 - Loss: 8.434456875083336, \n",
            " 68.04%\n",
            "2 - Loss: 5.512047488923876, \n",
            " 68.1%\n",
            "3 - Loss: 2.956870073593654, \n",
            " 68.62%\n",
            "4 - Loss: 1.8985387657057093, \n",
            " 73.75%\n",
            "5 - Loss: 1.7558289155266744, \n",
            " 81.99%\n",
            "6 - Loss: 1.674881272926218, \n",
            " 81.25%\n",
            "7 - Loss: 1.623875243420281, \n",
            " 82.89%\n",
            "8 - Loss: 1.5652805689746652, \n",
            " 82.69%\n",
            "9 - Loss: 1.5292692651055577, \n",
            " 83.61%\n",
            "10 - Loss: 1.4834968500183898, \n",
            " 83.55%\n",
            "11 - Loss: 1.4547390723537275, \n",
            " 84.3%\n",
            "12 - Loss: 1.418784478143944, \n",
            " 84.27%\n",
            "13 - Loss: 1.394256566968422, \n",
            " 84.84%\n",
            "14 - Loss: 1.3659350910622259, \n",
            " 84.96%\n",
            "15 - Loss: 1.3445875188347647, \n",
            " 85.34%\n",
            "16 - Loss: 1.3220198232096096, \n",
            " 85.4%\n",
            "17 - Loss: 1.3034634184193592, \n",
            " 85.81%\n",
            "18 - Loss: 1.285117113766232, \n",
            " 85.86%\n",
            "19 - Loss: 1.269068315150054, \n",
            " 86.18%\n",
            "20 - Loss: 1.2537827753717958, \n",
            " 86.22%\n",
            "21 - Loss: 1.2398963816638573, \n",
            " 86.55%\n",
            "22 - Loss: 1.2268469039957433, \n",
            " 86.51%\n",
            "23 - Loss: 1.214740575732478, \n",
            " 86.74%\n",
            "24 - Loss: 1.2033678230704052, \n",
            " 86.75%\n",
            "25 - Loss: 1.192694571096329, \n",
            " 86.87%\n",
            "26 - Loss: 1.1826267784085118, \n",
            " 86.93%\n",
            "27 - Loss: 1.1731133453159595, \n",
            " 87.06%\n",
            "28 - Loss: 1.1640996430905364, \n",
            " 87.1%\n",
            "29 - Loss: 1.1555433100032615, \n",
            " 87.21%\n",
            "30 - Loss: 1.14740625825318, \n",
            " 87.29%\n",
            "31 - Loss: 1.1396556120791266, \n",
            " 87.37%\n",
            "32 - Loss: 1.132262227617596, \n",
            " 87.37%\n",
            "33 - Loss: 1.1252000991663875, \n",
            " 87.42%\n",
            "34 - Loss: 1.1184459015731985, \n",
            " 87.45%\n",
            "35 - Loss: 1.1119785470055272, \n",
            " 87.56%\n",
            "36 - Loss: 1.1057789294728635, \n",
            " 87.65%\n",
            "37 - Loss: 1.0998296534231662, \n",
            " 87.68%\n",
            "38 - Loss: 1.0941148512417755, \n",
            " 87.73%\n",
            "39 - Loss: 1.088620003682387, \n",
            " 87.77%\n",
            "40 - Loss: 1.0833318007300121, \n",
            " 87.81%\n",
            "41 - Loss: 1.0782380125640525, \n",
            " 87.87%\n",
            "42 - Loss: 1.0733273816533013, \n",
            " 87.94%\n",
            "43 - Loss: 1.0685895254477489, \n",
            " 87.99%\n",
            "44 - Loss: 1.0640148520586772, \n",
            " 88.06%\n",
            "45 - Loss: 1.0595944849463859, \n",
            " 88.09%\n",
            "46 - Loss: 1.055320196548239, \n",
            " 88.14%\n",
            "47 - Loss: 1.0511843490562007, \n",
            " 88.21%\n",
            "48 - Loss: 1.047179841744282, \n",
            " 88.25%\n",
            "49 - Loss: 1.0433000638544996, \n",
            " 88.28%\n",
            "50 - Loss: 1.039538852440166, \n",
            " 88.3%\n",
            "51 - Loss: 1.0358904545227758, \n",
            " 88.33%\n",
            "52 - Loss: 1.0323494930713017, \n",
            " 88.35%\n",
            "53 - Loss: 1.0289109363468196, \n",
            " 88.39%\n",
            "54 - Loss: 1.0255700702317863, \n",
            " 88.4%\n",
            "55 - Loss: 1.022322473204956, \n",
            " 88.43%\n",
            "56 - Loss: 1.0191639936700632, \n",
            " 88.47%\n",
            "57 - Loss: 1.0160907293812222, \n",
            " 88.5%\n",
            "58 - Loss: 1.013099008740622, \n",
            " 88.57%\n",
            "59 - Loss: 1.0101853737709638, \n",
            " 88.66%\n",
            "60 - Loss: 1.007346564588904, \n",
            " 88.66%\n",
            "61 - Loss: 1.0045795052261213, \n",
            " 88.68%\n",
            "62 - Loss: 1.0018812906624541, \n",
            " 88.71%\n",
            "63 - Loss: 0.9992491749509933, \n",
            " 88.76%\n",
            "64 - Loss: 0.9966805603285392, \n",
            " 88.8%\n",
            "65 - Loss: 0.9941729872166252, \n",
            " 88.86%\n",
            "66 - Loss: 0.991724125028666, \n",
            " 88.89%\n",
            "67 - Loss: 0.9893317637078718, \n",
            " 88.94%\n",
            "68 - Loss: 0.9869938059285654, \n",
            " 88.97%\n",
            "69 - Loss: 0.9847082599005871, \n",
            " 88.99%\n",
            "70 - Loss: 0.9824732327226908, \n",
            " 89.03%\n",
            "71 - Loss: 0.9802869242363641, \n",
            " 89.04%\n",
            "72 - Loss: 0.9781476213363466, \n",
            " 89.08%\n",
            "73 - Loss: 0.9760536926984912, \n",
            " 89.12%\n",
            "74 - Loss: 0.9740035838894509, \n",
            " 89.12%\n",
            "75 - Loss: 0.9719958128261008, \n",
            " 89.14%\n",
            "76 - Loss: 0.9700289655556752, \n",
            " 89.14%\n",
            "77 - Loss: 0.9681016923303325, \n",
            " 89.17%\n",
            "78 - Loss: 0.9662127039523042, \n",
            " 89.19%\n",
            "79 - Loss: 0.9643607683679849, \n",
            " 89.22%\n",
            "80 - Loss: 0.9625447074912732, \n",
            " 89.22%\n",
            "81 - Loss: 0.9607633942382621, \n",
            " 89.22%\n",
            "82 - Loss: 0.9590157497569433, \n",
            " 89.24%\n",
            "83 - Loss: 0.9573007408370425, \n",
            " 89.24%\n",
            "84 - Loss: 0.9556173774863813, \n",
            " 89.27%\n",
            "85 - Loss: 0.9539647106613419, \n",
            " 89.27%\n",
            "86 - Loss: 0.9523418301400409, \n",
            " 89.29%\n",
            "87 - Loss: 0.9507478625278035, \n",
            " 89.29%\n",
            "88 - Loss: 0.9491819693853757, \n",
            " 89.32%\n",
            "89 - Loss: 0.9476433454710976, \n",
            " 89.32%\n",
            "90 - Loss: 0.9461312170889816, \n",
            " 89.31%\n",
            "91 - Loss: 0.9446448405352792, \n",
            " 89.33%\n",
            "92 - Loss: 0.9431835006367186, \n",
            " 89.33%\n",
            "93 - Loss: 0.9417465093741229, \n",
            " 89.33%\n",
            "94 - Loss: 0.9403332045856199, \n",
            " 89.33%\n",
            "95 - Loss: 0.9389429487440837, \n",
            " 89.34%\n",
            "96 - Loss: 0.9375751278038844, \n",
            " 89.35%\n",
            "97 - Loss: 0.9362291501123652, \n",
            " 89.36%\n",
            "98 - Loss: 0.9349044453818356, \n",
            " 89.37%\n",
            "99 - Loss: 0.9336004637181584, \n",
            " 89.39%\n",
            "100 - Loss: 0.9323166747023203, \n",
            " 89.39%\n",
            "101 - Loss: 0.9310525665216144, \n",
            " 89.39%\n",
            "102 - Loss: 0.9298076451473316, \n",
            " 89.41%\n",
            "103 - Loss: 0.9285814335560497, \n",
            " 89.41%\n",
            "104 - Loss: 0.9273734709918497, \n",
            " 89.4%\n",
            "105 - Loss: 0.9261833122669416, \n",
            " 89.42%\n",
            "106 - Loss: 0.9250105270983886, \n",
            " 89.42%\n",
            "107 - Loss: 0.9238546994787482, \n",
            " 89.44%\n",
            "108 - Loss: 0.9227154270786265, \n",
            " 89.48%\n",
            "109 - Loss: 0.921592320679248, \n",
            " 89.5%\n",
            "110 - Loss: 0.920485003633306, \n",
            " 89.55%\n",
            "111 - Loss: 0.9193931113524326, \n",
            " 89.56%\n",
            "112 - Loss: 0.9183162908197734, \n",
            " 89.58%\n",
            "113 - Loss: 0.9172542001262306, \n",
            " 89.6%\n",
            "114 - Loss: 0.9162065080290405, \n",
            " 89.58%\n",
            "115 - Loss: 0.9151728935314258, \n",
            " 89.6%\n",
            "116 - Loss: 0.9141530454821613, \n",
            " 89.63%\n",
            "117 - Loss: 0.9131466621939469, \n",
            " 89.61%\n",
            "118 - Loss: 0.9121534510795662, \n",
            " 89.64%\n",
            "119 - Loss: 0.9111731283048601, \n",
            " 89.64%\n",
            "120 - Loss: 0.9102054184576147, \n",
            " 89.65%\n",
            "121 - Loss: 0.9092500542315094, \n",
            " 89.66%\n",
            "122 - Loss: 0.9083067761243341, \n",
            " 89.67%\n",
            "123 - Loss: 0.9073753321497184, \n",
            " 89.67%\n",
            "124 - Loss: 0.9064554775616717, \n",
            " 89.68%\n",
            "125 - Loss: 0.9055469745912726, \n",
            " 89.68%\n",
            "126 - Loss: 0.9046495921948776, \n",
            " 89.7%\n",
            "127 - Loss: 0.9037631058132699, \n",
            " 89.72%\n",
            "128 - Loss: 0.9028872971411891, \n",
            " 89.72%\n",
            "129 - Loss: 0.9020219539067206, \n",
            " 89.73%\n",
            "130 - Loss: 0.901166869660056, \n",
            " 89.75%\n",
            "131 - Loss: 0.9003218435711583, \n",
            " 89.75%\n",
            "132 - Loss: 0.899486680235898, \n",
            " 89.75%\n",
            "133 - Loss: 0.8986611894902388, \n",
            " 89.76%\n",
            "134 - Loss: 0.8978451862320954, \n",
            " 89.75%\n",
            "135 - Loss: 0.8970384902504819, \n",
            " 89.76%\n",
            "136 - Loss: 0.8962409260616117, \n",
            " 89.76%\n",
            "137 - Loss: 0.8954523227516142, \n",
            " 89.77%\n",
            "138 - Loss: 0.8946725138255616, \n",
            " 89.78%\n",
            "139 - Loss: 0.8939013370625014, \n",
            " 89.81%\n",
            "140 - Loss: 0.8931386343762312, \n",
            " 89.8%\n",
            "141 - Loss: 0.8923842516815339, \n",
            " 89.81%\n",
            "142 - Loss: 0.8916380387656349, \n",
            " 89.84%\n",
            "143 - Loss: 0.8908998491646412, \n",
            " 89.85%\n",
            "144 - Loss: 0.8901695400447301, \n",
            " 89.89%\n",
            "145 - Loss: 0.8894469720878877, \n",
            " 89.9%\n",
            "146 - Loss: 0.8887320093819804, \n",
            " 89.91%\n",
            "147 - Loss: 0.8880245193149783, \n",
            " 89.91%\n",
            "148 - Loss: 0.8873243724731397, \n",
            " 89.93%\n",
            "149 - Loss: 0.8866314425429878, \n",
            " 89.92%\n",
            "150 - Loss: 0.8859456062169173, \n",
            " 89.91%\n",
            "151 - Loss: 0.8852667431022636, \n",
            " 89.94%\n",
            "152 - Loss: 0.8845947356337003, \n",
            " 89.96%\n",
            "153 - Loss: 0.8839294689888099, \n",
            " 89.96%\n",
            "154 - Loss: 0.8832708310067058, \n",
            " 89.99%\n",
            "155 - Loss: 0.8826187121095646, \n",
            " 90.0%\n",
            "156 - Loss: 0.8819730052269559, \n",
            " 90.02%\n",
            "157 - Loss: 0.8813336057228508, \n",
            " 90.02%\n",
            "158 - Loss: 0.8807004113251948, \n",
            " 90.01%\n",
            "159 - Loss: 0.8800733220579474, \n",
            " 90.02%\n",
            "160 - Loss: 0.8794522401754775, \n",
            " 90.02%\n",
            "161 - Loss: 0.8788370700992311, \n",
            " 90.04%\n",
            "162 - Loss: 0.8782277183565658, \n",
            " 90.05%\n",
            "163 - Loss: 0.8776240935216805, \n",
            " 90.06%\n",
            "164 - Loss: 0.8770261061585416, \n",
            " 90.08%\n",
            "165 - Loss: 0.8764336687657358, \n",
            " 90.08%\n",
            "166 - Loss: 0.8758466957231763, \n",
            " 90.08%\n",
            "167 - Loss: 0.8752651032405745, \n",
            " 90.08%\n",
            "168 - Loss: 0.8746888093076329, \n",
            " 90.08%\n",
            "169 - Loss: 0.8741177336458645, \n",
            " 90.08%\n",
            "170 - Loss: 0.8735517976620012, \n",
            " 90.08%\n",
            "171 - Loss: 0.8729909244029102, \n",
            " 90.1%\n",
            "172 - Loss: 0.8724350385119787, \n",
            " 90.12%\n",
            "173 - Loss: 0.8718840661868953, \n",
            " 90.13%\n",
            "174 - Loss: 0.8713379351387865, \n",
            " 90.13%\n",
            "175 - Loss: 0.8707965745526551, \n",
            " 90.13%\n",
            "176 - Loss: 0.8702599150490664, \n",
            " 90.15%\n",
            "177 - Loss: 0.8697278886470455, \n",
            " 90.17%\n",
            "178 - Loss: 0.8692004287281317, \n",
            " 90.17%\n",
            "179 - Loss: 0.8686774700015557, \n",
            " 90.18%\n",
            "180 - Loss: 0.868158948470491, \n",
            " 90.18%\n",
            "181 - Loss: 0.8676448013993504, \n",
            " 90.21%\n",
            "182 - Loss: 0.8671349672820746, \n",
            " 90.22%\n",
            "183 - Loss: 0.8666293858113995, \n",
            " 90.23%\n",
            "184 - Loss: 0.866127997849042, \n",
            " 90.24%\n",
            "185 - Loss: 0.8656307453967934, \n",
            " 90.25%\n",
            "186 - Loss: 0.8651375715684746, \n",
            " 90.25%\n",
            "187 - Loss: 0.8646484205627291, \n",
            " 90.26%\n",
            "188 - Loss: 0.8641632376366235, \n",
            " 90.27%\n",
            "189 - Loss: 0.8636819690800261, \n",
            " 90.28%\n",
            "190 - Loss: 0.8632045621907372, \n",
            " 90.29%\n",
            "191 - Loss: 0.8627309652503444, \n",
            " 90.31%\n",
            "192 - Loss: 0.8622611275007879, \n",
            " 90.3%\n",
            "193 - Loss: 0.8617949991215879, \n",
            " 90.3%\n",
            "194 - Loss: 0.8613325312077419, \n",
            " 90.31%\n",
            "195 - Loss: 0.8608736757482423, \n",
            " 90.31%\n",
            "196 - Loss: 0.8604183856052141, \n",
            " 90.33%\n",
            "197 - Loss: 0.8599666144936414, \n",
            " 90.33%\n",
            "198 - Loss: 0.8595183169616599, \n",
            " 90.33%\n",
            "199 - Loss: 0.8590734483714086, \n",
            " 90.32%\n",
            "200 - Loss: 0.8586319648804129, \n",
            " 90.32%\n"
          ]
        }
      ]
    },
    {
      "cell_type": "code",
      "source": [
        "digit_classifier.test(X_test, Y_test, w)"
      ],
      "metadata": {
        "id": "af_Vtzu6y6wS",
        "colab": {
          "base_uri": "https://localhost:8080/"
        },
        "outputId": "17cea34c-7677-4985-8988-2f19c1d91d80"
      },
      "execution_count": 122,
      "outputs": [
        {
          "output_type": "stream",
          "name": "stdout",
          "text": [
            "Success: 9032/10000 90.32%\n"
          ]
        }
      ]
    },
    {
      "cell_type": "code",
      "source": [
        "!curl -o \"img_8.png\" \"https://raw.githubusercontent.com/DanyelMorales/MLLearneerRepo/main/dataset/8_handwritten.png\""
      ],
      "metadata": {
        "colab": {
          "base_uri": "https://localhost:8080/"
        },
        "id": "q-tSbFPTcA-P",
        "outputId": "d1159489-85bd-4b21-94ae-3448d915c170"
      },
      "execution_count": 123,
      "outputs": [
        {
          "output_type": "stream",
          "name": "stdout",
          "text": [
            "  % Total    % Received % Xferd  Average Speed   Time    Time     Time  Current\n",
            "                                 Dload  Upload   Total   Spent    Left  Speed\n",
            "100 12299  100 12299    0     0  38786      0 --:--:-- --:--:-- --:--:-- 38920\n"
          ]
        }
      ]
    },
    {
      "cell_type": "code",
      "source": [
        "import cv2\n",
        "import matplotlib.pyplot as plt\n",
        "import numpy as np\n",
        "\n",
        "def load_image(file):\n",
        "  test_image = cv2.imread(file,cv2.IMREAD_GRAYSCALE)\n",
        "  img_resized = cv2.resize(test_image, (28, 28))\n",
        "  img_resized = cv2.bitwise_not(img_resized)\n",
        "  plt.imshow(img_resized, cmap=\"Greys\")\n",
        "  return img_resized"
      ],
      "metadata": {
        "id": "_QYFYlCLb87F"
      },
      "execution_count": 148,
      "outputs": []
    },
    {
      "cell_type": "code",
      "source": [
        "# prompt: cv2 image to np buffer\n",
        "\n",
        "def cv2_to_np_buffer(img):\n",
        "  np_img = np.asarray(img)\n",
        "  np_img = np.expand_dims(np_img, axis=0)\n",
        "  print(np_img.shape)\n",
        "  return np_img\n"
      ],
      "metadata": {
        "id": "eW0duzsLjuxW"
      },
      "execution_count": 141,
      "outputs": []
    },
    {
      "cell_type": "code",
      "source": [
        "number_8 = cv2_to_np_buffer(load_image(\"./img_8.png\"))"
      ],
      "metadata": {
        "colab": {
          "base_uri": "https://localhost:8080/",
          "height": 448
        },
        "id": "UKRlxBPecZS-",
        "outputId": "90235451-384e-4a88-ffc4-3d83562b340d"
      },
      "execution_count": 149,
      "outputs": [
        {
          "output_type": "stream",
          "name": "stdout",
          "text": [
            "(1, 28, 28)\n"
          ]
        },
        {
          "output_type": "display_data",
          "data": {
            "text/plain": [
              "<Figure size 640x480 with 1 Axes>"
            ],
            "image/png": "[encoded data removed]"
          },
          "metadata": {}
        }
      ]
    },
    {
      "cell_type": "code",
      "source": [
        "number_8= number_8.reshape(1,28*28)"
      ],
      "metadata": {
        "id": "Z4nMVb-beX8h"
      },
      "execution_count": 150,
      "outputs": []
    },
    {
      "cell_type": "code",
      "source": [
        "number_8 = prepend_bias(number_8)"
      ],
      "metadata": {
        "id": "iI5n2i0tKfo8"
      },
      "execution_count": 151,
      "outputs": []
    },
    {
      "cell_type": "markdown",
      "source": [],
      "metadata": {
        "id": "_ZgUGs3FNb41"
      }
    },
    {
      "cell_type": "code",
      "source": [
        "w.shape"
      ],
      "metadata": {
        "colab": {
          "base_uri": "https://localhost:8080/"
        },
        "id": "SjcOjfp1Nezp",
        "outputId": "eda41b30-7e89-41c2-8716-739e993856f0"
      },
      "execution_count": 152,
      "outputs": [
        {
          "output_type": "execute_result",
          "data": {
            "text/plain": [
              "(785, 10)"
            ]
          },
          "metadata": {},
          "execution_count": 152
        }
      ]
    },
    {
      "cell_type": "code",
      "source": [
        "number_8.shape"
      ],
      "metadata": {
        "colab": {
          "base_uri": "https://localhost:8080/"
        },
        "id": "FH4OyjsqOFeq",
        "outputId": "01c6a336-6bd8-40d4-93bb-d55822c8a79d"
      },
      "execution_count": 153,
      "outputs": [
        {
          "output_type": "execute_result",
          "data": {
            "text/plain": [
              "(1, 785)"
            ]
          },
          "metadata": {},
          "execution_count": 153
        }
      ]
    },
    {
      "cell_type": "code",
      "source": [
        "digit_classifier.classify(number_8,w)"
      ],
      "metadata": {
        "id": "ivdj-OLzQ5OT",
        "outputId": "cb01bc85-830a-4f66-ff55-80c1ef33b3f7",
        "colab": {
          "base_uri": "https://localhost:8080/"
        }
      },
      "execution_count": 165,
      "outputs": [
        {
          "output_type": "execute_result",
          "data": {
            "text/plain": [
              "array([[6]])"
            ]
          },
          "metadata": {},
          "execution_count": 165
        }
      ]
    },
    {
      "cell_type": "code",
      "source": [
        "import pandas as pd\n",
        "pd.DataFrame(w)"
      ],
      "metadata": {
        "colab": {
          "base_uri": "https://localhost:8080/",
          "height": 444
        },
        "id": "ctUgk1leNWsc",
        "outputId": "949c8f5b-031c-45eb-80fe-e0119ae18128"
      },
      "execution_count": 139,
      "outputs": [
        {
          "output_type": "execute_result",
          "data": {
            "text/plain": [
              "            0             1             2             3             4  \\\n",
              "0   -0.000014 -2.362471e-06 -1.702364e-05 -2.010009e-05 -9.915624e-06   \n",
              "1    0.000000  0.000000e+00  0.000000e+00  0.000000e+00  0.000000e+00   \n",
              "2    0.000000  0.000000e+00  0.000000e+00  0.000000e+00  0.000000e+00   \n",
              "3    0.000000  0.000000e+00  0.000000e+00  0.000000e+00  0.000000e+00   \n",
              "4    0.000000  0.000000e+00  0.000000e+00  0.000000e+00  0.000000e+00   \n",
              "..        ...           ...           ...           ...           ...   \n",
              "780 -0.000003 -4.612743e-08 -1.371935e-07 -1.187978e-07 -8.519923e-07   \n",
              "781  0.000000  0.000000e+00  0.000000e+00  0.000000e+00  0.000000e+00   \n",
              "782  0.000000  0.000000e+00  0.000000e+00  0.000000e+00  0.000000e+00   \n",
              "783  0.000000  0.000000e+00  0.000000e+00  0.000000e+00  0.000000e+00   \n",
              "784  0.000000  0.000000e+00  0.000000e+00  0.000000e+00  0.000000e+00   \n",
              "\n",
              "                5             6         7             8             9  \n",
              "0   -5.944340e-06 -1.295700e-05 -0.000006 -4.355776e-05 -2.180818e-05  \n",
              "1    0.000000e+00  0.000000e+00  0.000000  0.000000e+00  0.000000e+00  \n",
              "2    0.000000e+00  0.000000e+00  0.000000  0.000000e+00  0.000000e+00  \n",
              "3    0.000000e+00  0.000000e+00  0.000000  0.000000e+00  0.000000e+00  \n",
              "4    0.000000e+00  0.000000e+00  0.000000  0.000000e+00  0.000000e+00  \n",
              "..            ...           ...       ...           ...           ...  \n",
              "780 -1.664934e-07 -1.588954e-07  0.000002 -2.824660e-07 -4.181571e-07  \n",
              "781  0.000000e+00  0.000000e+00  0.000000  0.000000e+00  0.000000e+00  \n",
              "782  0.000000e+00  0.000000e+00  0.000000  0.000000e+00  0.000000e+00  \n",
              "783  0.000000e+00  0.000000e+00  0.000000  0.000000e+00  0.000000e+00  \n",
              "784  0.000000e+00  0.000000e+00  0.000000  0.000000e+00  0.000000e+00  \n",
              "\n",
              "[785 rows x 10 columns]"
            ],
            "text/html": [
              "\n",
              "  <div id=\"df-32e172ee-010d-4e7f-b5a7-94b1276ebb12\" class=\"colab-df-container\">\n",
              "    <div>\n",
              "<style scoped>\n",
              "    .dataframe tbody tr th:only-of-type {\n",
              "        vertical-align: middle;\n",
              "    }\n",
              "\n",
              "    .dataframe tbody tr th {\n",
              "        vertical-align: top;\n",
              "    }\n",
              "\n",
              "    .dataframe thead th {\n",
              "        text-align: right;\n",
              "    }\n",
              "</style>\n",
              "<table border=\"1\" class=\"dataframe\">\n",
              "  <thead>\n",
              "    <tr style=\"text-align: right;\">\n",
              "      <th></th>\n",
              "      <th>0</th>\n",
              "      <th>1</th>\n",
              "      <th>2</th>\n",
              "      <th>3</th>\n",
              "      <th>4</th>\n",
              "      <th>5</th>\n",
              "      <th>6</th>\n",
              "      <th>7</th>\n",
              "      <th>8</th>\n",
              "      <th>9</th>\n",
              "    </tr>\n",
              "  </thead>\n",
              "  <tbody>\n",
              "    <tr>\n",
              "      <th>0</th>\n",
              "      <td>-0.000014</td>\n",
              "      <td>-2.362471e-06</td>\n",
              "      <td>-1.702364e-05</td>\n",
              "      <td>-2.010009e-05</td>\n",
              "      <td>-9.915624e-06</td>\n",
              "      <td>-5.944340e-06</td>\n",
              "      <td>-1.295700e-05</td>\n",
              "      <td>-0.000006</td>\n",
              "      <td>-4.355776e-05</td>\n",
              "      <td>-2.180818e-05</td>\n",
              "    </tr>\n",
              "    <tr>\n",
              "      <th>1</th>\n",
              "      <td>0.000000</td>\n",
              "      <td>0.000000e+00</td>\n",
              "      <td>0.000000e+00</td>\n",
              "      <td>0.000000e+00</td>\n",
              "      <td>0.000000e+00</td>\n",
              "      <td>0.000000e+00</td>\n",
              "      <td>0.000000e+00</td>\n",
              "      <td>0.000000</td>\n",
              "      <td>0.000000e+00</td>\n",
              "      <td>0.000000e+00</td>\n",
              "    </tr>\n",
              "    <tr>\n",
              "      <th>2</th>\n",
              "      <td>0.000000</td>\n",
              "      <td>0.000000e+00</td>\n",
              "      <td>0.000000e+00</td>\n",
              "      <td>0.000000e+00</td>\n",
              "      <td>0.000000e+00</td>\n",
              "      <td>0.000000e+00</td>\n",
              "      <td>0.000000e+00</td>\n",
              "      <td>0.000000</td>\n",
              "      <td>0.000000e+00</td>\n",
              "      <td>0.000000e+00</td>\n",
              "    </tr>\n",
              "    <tr>\n",
              "      <th>3</th>\n",
              "      <td>0.000000</td>\n",
              "      <td>0.000000e+00</td>\n",
              "      <td>0.000000e+00</td>\n",
              "      <td>0.000000e+00</td>\n",
              "      <td>0.000000e+00</td>\n",
              "      <td>0.000000e+00</td>\n",
              "      <td>0.000000e+00</td>\n",
              "      <td>0.000000</td>\n",
              "      <td>0.000000e+00</td>\n",
              "      <td>0.000000e+00</td>\n",
              "    </tr>\n",
              "    <tr>\n",
              "      <th>4</th>\n",
              "      <td>0.000000</td>\n",
              "      <td>0.000000e+00</td>\n",
              "      <td>0.000000e+00</td>\n",
              "      <td>0.000000e+00</td>\n",
              "      <td>0.000000e+00</td>\n",
              "      <td>0.000000e+00</td>\n",
              "      <td>0.000000e+00</td>\n",
              "      <td>0.000000</td>\n",
              "      <td>0.000000e+00</td>\n",
              "      <td>0.000000e+00</td>\n",
              "    </tr>\n",
              "    <tr>\n",
              "      <th>...</th>\n",
              "      <td>...</td>\n",
              "      <td>...</td>\n",
              "      <td>...</td>\n",
              "      <td>...</td>\n",
              "      <td>...</td>\n",
              "      <td>...</td>\n",
              "      <td>...</td>\n",
              "      <td>...</td>\n",
              "      <td>...</td>\n",
              "      <td>...</td>\n",
              "    </tr>\n",
              "    <tr>\n",
              "      <th>780</th>\n",
              "      <td>-0.000003</td>\n",
              "      <td>-4.612743e-08</td>\n",
              "      <td>-1.371935e-07</td>\n",
              "      <td>-1.187978e-07</td>\n",
              "      <td>-8.519923e-07</td>\n",
              "      <td>-1.664934e-07</td>\n",
              "      <td>-1.588954e-07</td>\n",
              "      <td>0.000002</td>\n",
              "      <td>-2.824660e-07</td>\n",
              "      <td>-4.181571e-07</td>\n",
              "    </tr>\n",
              "    <tr>\n",
              "      <th>781</th>\n",
              "      <td>0.000000</td>\n",
              "      <td>0.000000e+00</td>\n",
              "      <td>0.000000e+00</td>\n",
              "      <td>0.000000e+00</td>\n",
              "      <td>0.000000e+00</td>\n",
              "      <td>0.000000e+00</td>\n",
              "      <td>0.000000e+00</td>\n",
              "      <td>0.000000</td>\n",
              "      <td>0.000000e+00</td>\n",
              "      <td>0.000000e+00</td>\n",
              "    </tr>\n",
              "    <tr>\n",
              "      <th>782</th>\n",
              "      <td>0.000000</td>\n",
              "      <td>0.000000e+00</td>\n",
              "      <td>0.000000e+00</td>\n",
              "      <td>0.000000e+00</td>\n",
              "      <td>0.000000e+00</td>\n",
              "      <td>0.000000e+00</td>\n",
              "      <td>0.000000e+00</td>\n",
              "      <td>0.000000</td>\n",
              "      <td>0.000000e+00</td>\n",
              "      <td>0.000000e+00</td>\n",
              "    </tr>\n",
              "    <tr>\n",
              "      <th>783</th>\n",
              "      <td>0.000000</td>\n",
              "      <td>0.000000e+00</td>\n",
              "      <td>0.000000e+00</td>\n",
              "      <td>0.000000e+00</td>\n",
              "      <td>0.000000e+00</td>\n",
              "      <td>0.000000e+00</td>\n",
              "      <td>0.000000e+00</td>\n",
              "      <td>0.000000</td>\n",
              "      <td>0.000000e+00</td>\n",
              "      <td>0.000000e+00</td>\n",
              "    </tr>\n",
              "    <tr>\n",
              "      <th>784</th>\n",
              "      <td>0.000000</td>\n",
              "      <td>0.000000e+00</td>\n",
              "      <td>0.000000e+00</td>\n",
              "      <td>0.000000e+00</td>\n",
              "      <td>0.000000e+00</td>\n",
              "      <td>0.000000e+00</td>\n",
              "      <td>0.000000e+00</td>\n",
              "      <td>0.000000</td>\n",
              "      <td>0.000000e+00</td>\n",
              "      <td>0.000000e+00</td>\n",
              "    </tr>\n",
              "  </tbody>\n",
              "</table>\n",
              "<p>785 rows × 10 columns</p>\n",
              "</div>\n",
              "    <div class=\"colab-df-buttons\">\n",
              "\n",
              "  <div class=\"colab-df-container\">\n",
              "    <button class=\"colab-df-convert\" onclick=\"convertToInteractive('df-32e172ee-010d-4e7f-b5a7-94b1276ebb12')\"\n",
              "            title=\"Convert this dataframe to an interactive table.\"\n",
              "            style=\"display:none;\">\n",
              "\n",
              "  <svg xmlns=\"http://www.w3.org/2000/svg\" height=\"24px\" viewBox=\"0 -960 960 960\">\n",
              "    <path d=\"M120-120v-720h720v720H120Zm60-500h600v-160H180v160Zm220 220h160v-160H400v160Zm0 220h160v-160H400v160ZM180-400h160v-160H180v160Zm440 0h160v-160H620v160ZM180-180h160v-160H180v160Zm440 0h160v-160H620v160Z\"/>\n",
              "  </svg>\n",
              "    </button>\n",
              "\n",
              "  <style>\n",
              "    .colab-df-container {\n",
              "      display:flex;\n",
              "      gap: 12px;\n",
              "    }\n",
              "\n",
              "    .colab-df-convert {\n",
              "      background-color: #E8F0FE;\n",
              "      border: none;\n",
              "      border-radius: 50%;\n",
              "      cursor: pointer;\n",
              "      display: none;\n",
              "      fill: #1967D2;\n",
              "      height: 32px;\n",
              "      padding: 0 0 0 0;\n",
              "      width: 32px;\n",
              "    }\n",
              "\n",
              "    .colab-df-convert:hover {\n",
              "      background-color: #E2EBFA;\n",
              "      box-shadow: 0px 1px 2px rgba(60, 64, 67, 0.3), 0px 1px 3px 1px rgba(60, 64, 67, 0.15);\n",
              "      fill: #174EA6;\n",
              "    }\n",
              "\n",
              "    .colab-df-buttons div {\n",
              "      margin-bottom: 4px;\n",
              "    }\n",
              "\n",
              "    [theme=dark] .colab-df-convert {\n",
              "      background-color: #3B4455;\n",
              "      fill: #D2E3FC;\n",
              "    }\n",
              "\n",
              "    [theme=dark] .colab-df-convert:hover {\n",
              "      background-color: #434B5C;\n",
              "      box-shadow: 0px 1px 3px 1px rgba(0, 0, 0, 0.15);\n",
              "      filter: drop-shadow(0px 1px 2px rgba(0, 0, 0, 0.3));\n",
              "      fill: #FFFFFF;\n",
              "    }\n",
              "  </style>\n",
              "\n",
              "    <script>\n",
              "      const buttonEl =\n",
              "        document.querySelector('#df-32e172ee-010d-4e7f-b5a7-94b1276ebb12 button.colab-df-convert');\n",
              "      buttonEl.style.display =\n",
              "        google.colab.kernel.accessAllowed ? 'block' : 'none';\n",
              "\n",
              "      async function convertToInteractive(key) {\n",
              "        const element = document.querySelector('#df-32e172ee-010d-4e7f-b5a7-94b1276ebb12');\n",
              "        const dataTable =\n",
              "          await google.colab.kernel.invokeFunction('convertToInteractive',\n",
              "                                                    [key], {});\n",
              "        if (!dataTable) return;\n",
              "\n",
              "        const docLinkHtml = 'Like what you see? Visit the ' +\n",
              "          '<a target=\"_blank\" href=https://colab.research.google.com/notebooks/data_table.ipynb>data table notebook</a>'\n",
              "          + ' to learn more about interactive tables.';\n",
              "        element.innerHTML = '';\n",
              "        dataTable['output_type'] = 'display_data';\n",
              "        await google.colab.output.renderOutput(dataTable, element);\n",
              "        const docLink = document.createElement('div');\n",
              "        docLink.innerHTML = docLinkHtml;\n",
              "        element.appendChild(docLink);\n",
              "      }\n",
              "    </script>\n",
              "  </div>\n",
              "\n",
              "\n",
              "<div id=\"df-9c769fc7-5180-4c27-90be-e1170e14eeb9\">\n",
              "  <button class=\"colab-df-quickchart\" onclick=\"quickchart('df-9c769fc7-5180-4c27-90be-e1170e14eeb9')\"\n",
              "            title=\"Suggest charts\"\n",
              "            style=\"display:none;\">\n",
              "\n",
              "<svg xmlns=\"http://www.w3.org/2000/svg\" height=\"24px\"viewBox=\"0 0 24 24\"\n",
              "     width=\"24px\">\n",
              "    <g>\n",
              "        <path d=\"M19 3H5c-1.1 0-2 .9-2 2v14c0 1.1.9 2 2 2h14c1.1 0 2-.9 2-2V5c0-1.1-.9-2-2-2zM9 17H7v-7h2v7zm4 0h-2V7h2v10zm4 0h-2v-4h2v4z\"/>\n",
              "    </g>\n",
              "</svg>\n",
              "  </button>\n",
              "\n",
              "<style>\n",
              "  .colab-df-quickchart {\n",
              "      --bg-color: #E8F0FE;\n",
              "      --fill-color: #1967D2;\n",
              "      --hover-bg-color: #E2EBFA;\n",
              "      --hover-fill-color: #174EA6;\n",
              "      --disabled-fill-color: #AAA;\n",
              "      --disabled-bg-color: #DDD;\n",
              "  }\n",
              "\n",
              "  [theme=dark] .colab-df-quickchart {\n",
              "      --bg-color: #3B4455;\n",
              "      --fill-color: #D2E3FC;\n",
              "      --hover-bg-color: #434B5C;\n",
              "      --hover-fill-color: #FFFFFF;\n",
              "      --disabled-bg-color: #3B4455;\n",
              "      --disabled-fill-color: #666;\n",
              "  }\n",
              "\n",
              "  .colab-df-quickchart {\n",
              "    background-color: var(--bg-color);\n",
              "    border: none;\n",
              "    border-radius: 50%;\n",
              "    cursor: pointer;\n",
              "    display: none;\n",
              "    fill: var(--fill-color);\n",
              "    height: 32px;\n",
              "    padding: 0;\n",
              "    width: 32px;\n",
              "  }\n",
              "\n",
              "  .colab-df-quickchart:hover {\n",
              "    background-color: var(--hover-bg-color);\n",
              "    box-shadow: 0 1px 2px rgba(60, 64, 67, 0.3), 0 1px 3px 1px rgba(60, 64, 67, 0.15);\n",
              "    fill: var(--button-hover-fill-color);\n",
              "  }\n",
              "\n",
              "  .colab-df-quickchart-complete:disabled,\n",
              "  .colab-df-quickchart-complete:disabled:hover {\n",
              "    background-color: var(--disabled-bg-color);\n",
              "    fill: var(--disabled-fill-color);\n",
              "    box-shadow: none;\n",
              "  }\n",
              "\n",
              "  .colab-df-spinner {\n",
              "    border: 2px solid var(--fill-color);\n",
              "    border-color: transparent;\n",
              "    border-bottom-color: var(--fill-color);\n",
              "    animation:\n",
              "      spin 1s steps(1) infinite;\n",
              "  }\n",
              "\n",
              "  @keyframes spin {\n",
              "    0% {\n",
              "      border-color: transparent;\n",
              "      border-bottom-color: var(--fill-color);\n",
              "      border-left-color: var(--fill-color);\n",
              "    }\n",
              "    20% {\n",
              "      border-color: transparent;\n",
              "      border-left-color: var(--fill-color);\n",
              "      border-top-color: var(--fill-color);\n",
              "    }\n",
              "    30% {\n",
              "      border-color: transparent;\n",
              "      border-left-color: var(--fill-color);\n",
              "      border-top-color: var(--fill-color);\n",
              "      border-right-color: var(--fill-color);\n",
              "    }\n",
              "    40% {\n",
              "      border-color: transparent;\n",
              "      border-right-color: var(--fill-color);\n",
              "      border-top-color: var(--fill-color);\n",
              "    }\n",
              "    60% {\n",
              "      border-color: transparent;\n",
              "      border-right-color: var(--fill-color);\n",
              "    }\n",
              "    80% {\n",
              "      border-color: transparent;\n",
              "      border-right-color: var(--fill-color);\n",
              "      border-bottom-color: var(--fill-color);\n",
              "    }\n",
              "    90% {\n",
              "      border-color: transparent;\n",
              "      border-bottom-color: var(--fill-color);\n",
              "    }\n",
              "  }\n",
              "</style>\n",
              "\n",
              "  <script>\n",
              "    async function quickchart(key) {\n",
              "      const quickchartButtonEl =\n",
              "        document.querySelector('#' + key + ' button');\n",
              "      quickchartButtonEl.disabled = true;  // To prevent multiple clicks.\n",
              "      quickchartButtonEl.classList.add('colab-df-spinner');\n",
              "      try {\n",
              "        const charts = await google.colab.kernel.invokeFunction(\n",
              "            'suggestCharts', [key], {});\n",
              "      } catch (error) {\n",
              "        console.error('Error during call to suggestCharts:', error);\n",
              "      }\n",
              "      quickchartButtonEl.classList.remove('colab-df-spinner');\n",
              "      quickchartButtonEl.classList.add('colab-df-quickchart-complete');\n",
              "    }\n",
              "    (() => {\n",
              "      let quickchartButtonEl =\n",
              "        document.querySelector('#df-9c769fc7-5180-4c27-90be-e1170e14eeb9 button');\n",
              "      quickchartButtonEl.style.display =\n",
              "        google.colab.kernel.accessAllowed ? 'block' : 'none';\n",
              "    })();\n",
              "  </script>\n",
              "</div>\n",
              "\n",
              "    </div>\n",
              "  </div>\n"
            ],
            "application/vnd.google.colaboratory.intrinsic+json": {
              "type": "dataframe",
              "summary": "{\n  \"name\": \"pd\",\n  \"rows\": 785,\n  \"fields\": [\n    {\n      \"column\": 0,\n      \"properties\": {\n        \"dtype\": \"number\",\n        \"std\": 0.000422751862219177,\n        \"min\": -0.0021952261783237527,\n        \"max\": 0.0008975088465727562,\n        \"num_unique_values\": 719,\n        \"samples\": [\n          -0.0001935197568972271,\n          -0.0004290871473041918,\n          -0.00018762458930067939\n        ],\n        \"semantic_type\": \"\",\n        \"description\": \"\"\n      }\n    },\n    {\n      \"column\": 1,\n      \"properties\": {\n        \"dtype\": \"number\",\n        \"std\": 0.00038375732552916784,\n        \"min\": -0.0014046689722072585,\n        \"max\": 0.0020240859552661875,\n        \"num_unique_values\": 719,\n        \"samples\": [\n          0.00047629707254387193,\n          -0.0009033359047936806,\n          -1.2917006639781384e-06\n        ],\n        \"semantic_type\": \"\",\n        \"description\": \"\"\n      }\n    },\n    {\n      \"column\": 2,\n      \"properties\": {\n        \"dtype\": \"number\",\n        \"std\": 0.00045795833478230844,\n        \"min\": -0.00198314198371421,\n        \"max\": 0.0010254268005057798,\n        \"num_unique_values\": 719,\n        \"samples\": [\n          -0.0003379175307896791,\n          0.0001572794158532835,\n          -0.0003804170730552695\n        ],\n        \"semantic_type\": \"\",\n        \"description\": \"\"\n      }\n    },\n    {\n      \"column\": 3,\n      \"properties\": {\n        \"dtype\": \"number\",\n        \"std\": 0.00042822596366668455,\n        \"min\": -0.0020654655752627366,\n        \"max\": 0.0009345293344860128,\n        \"num_unique_values\": 719,\n        \"samples\": [\n          -0.0006120846417054363,\n          0.00013055169844691282,\n          -5.829396180319286e-05\n        ],\n        \"semantic_type\": \"\",\n        \"description\": \"\"\n      }\n    },\n    {\n      \"column\": 4,\n      \"properties\": {\n        \"dtype\": \"number\",\n        \"std\": 0.0004580155313724551,\n        \"min\": -0.0022365977898660067,\n        \"max\": 0.0015637489106225414,\n        \"num_unique_values\": 719,\n        \"samples\": [\n          0.00022438678176000496,\n          -0.00019276855695558393,\n          -0.0003314442485911592\n        ],\n        \"semantic_type\": \"\",\n        \"description\": \"\"\n      }\n    },\n    {\n      \"column\": 5,\n      \"properties\": {\n        \"dtype\": \"number\",\n        \"std\": 0.000460043667533542,\n        \"min\": -0.0019788439237908143,\n        \"max\": 0.0018714719024801585,\n        \"num_unique_values\": 719,\n        \"samples\": [\n          0.00045701644613982775,\n          0.0001100163445373113,\n          -0.00015410383503695738\n        ],\n        \"semantic_type\": \"\",\n        \"description\": \"\"\n      }\n    },\n    {\n      \"column\": 6,\n      \"properties\": {\n        \"dtype\": \"number\",\n        \"std\": 0.0004443012705461408,\n        \"min\": -0.00196462189781176,\n        \"max\": 0.0014328139595902135,\n        \"num_unique_values\": 719,\n        \"samples\": [\n          0.0003159429731241381,\n          -0.0004401300143883464,\n          0.0002663739021918222\n        ],\n        \"semantic_type\": \"\",\n        \"description\": \"\"\n      }\n    },\n    {\n      \"column\": 7,\n      \"properties\": {\n        \"dtype\": \"number\",\n        \"std\": 0.0004261060293151017,\n        \"min\": -0.0022405945578606594,\n        \"max\": 0.0012349756561217144,\n        \"num_unique_values\": 719,\n        \"samples\": [\n          -0.0006226205336560179,\n          0.0006117484941685606,\n          -4.324121947866402e-05\n        ],\n        \"semantic_type\": \"\",\n        \"description\": \"\"\n      }\n    },\n    {\n      \"column\": 8,\n      \"properties\": {\n        \"dtype\": \"number\",\n        \"std\": 0.0004108918598126295,\n        \"min\": -0.0016818558535154039,\n        \"max\": 0.0015273437888863122,\n        \"num_unique_values\": 719,\n        \"samples\": [\n          -0.0005905514626642903,\n          4.504147201060572e-05,\n          -0.00018927117554796288\n        ],\n        \"semantic_type\": \"\",\n        \"description\": \"\"\n      }\n    },\n    {\n      \"column\": 9,\n      \"properties\": {\n        \"dtype\": \"number\",\n        \"std\": 0.0004391673290079129,\n        \"min\": -0.0018815253344974187,\n        \"max\": 0.0023132699798019945,\n        \"num_unique_values\": 719,\n        \"samples\": [\n          -0.001057875700813325,\n          -0.0008678866170881231,\n          -0.0001278271340697878\n        ],\n        \"semantic_type\": \"\",\n        \"description\": \"\"\n      }\n    }\n  ]\n}"
            }
          },
          "metadata": {},
          "execution_count": 139
        }
      ]
    },
    {
      "cell_type": "code",
      "source": [],
      "metadata": {
        "id": "4_y9P-JiOptd"
      },
      "execution_count": null,
      "outputs": []
    }
  ]
}