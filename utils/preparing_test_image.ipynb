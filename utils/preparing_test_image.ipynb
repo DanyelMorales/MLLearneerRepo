{
  "nbformat": 4,
  "nbformat_minor": 0,
  "metadata": {
    "colab": {
      "provenance": [],
      "authorship_tag": "ABX9TyOelL0sS6scgR4AMWLw5jwZ",
      "include_colab_link": true
    },
    "kernelspec": {
      "name": "python3",
      "display_name": "Python 3"
    },
    "language_info": {
      "name": "python"
    }
  },
  "cells": [
    {
      "cell_type": "markdown",
      "metadata": {
        "id": "view-in-github",
        "colab_type": "text"
      },
      "source": [
        "<a href=\"https://colab.research.google.com/github/DanyelMorales/MLLearneerRepo/blob/main/utils/preparing_test_image.ipynb\" target=\"_parent\"><img src=\"https://colab.research.google.com/assets/colab-badge.svg\" alt=\"Open In Colab\"/></a>"
      ]
    },
    {
      "cell_type": "code",
      "execution_count": null,
      "metadata": {
        "id": "BzsgDVqtDO0f"
      },
      "outputs": [],
      "source": [
        "import cv2\n",
        "import matplotlib.pyplot as plt\n",
        "import numpy as np\n",
        "\n",
        "file = \"\"\n",
        "test_image = cv2.imread(file)\n",
        "plt.imshow(test_image)\n",
        "plt.show()"
      ]
    },
    {
      "cell_type": "code",
      "source": [
        "img_resized = cv2.resize(test_image, (256, 256))\n",
        "img_resized = cv2.bitwise_not(img_resized)\n",
        "plt.imshow(img_resized, cmap='gray')\n",
        "plt.show()"
      ],
      "metadata": {
        "id": "-cEzljZNDk7w"
      },
      "execution_count": null,
      "outputs": []
    }
  ]
}