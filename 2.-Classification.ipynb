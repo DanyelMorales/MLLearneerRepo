{
  "nbformat": 4,
  "nbformat_minor": 0,
  "metadata": {
    "colab": {
      "provenance": [],
      "authorship_tag": "ABX9TyNIxdUm8DpMInOOKi6z+F6U",
      "include_colab_link": true
    },
    "kernelspec": {
      "name": "python3",
      "display_name": "Python 3"
    },
    "language_info": {
      "name": "python"
    }
  },
  "cells": [
    {
      "cell_type": "markdown",
      "metadata": {
        "id": "view-in-github",
        "colab_type": "text"
      },
      "source": [
        "<a href=\"https://colab.research.google.com/github/DanyelMorales/MLLearneerRepo/blob/main/2.-Classification.ipynb\" target=\"_parent\"><img src=\"https://colab.research.google.com/assets/colab-badge.svg\" alt=\"Open In Colab\"/></a>"
      ]
    },
    {
      "cell_type": "code",
      "execution_count": 1,
      "metadata": {
        "colab": {
          "base_uri": "https://localhost:8080/"
        },
        "id": "-1W_d8drx68l",
        "outputId": "e50087d7-5140-456c-d7ab-a45d1c62d531"
      },
      "outputs": [
        {
          "output_type": "stream",
          "name": "stdout",
          "text": [
            "Xshape=(30, 4) yshape=(30,) Yshape=(30, 1)\n"
          ]
        }
      ],
      "source": [
        "import numpy as np\n",
        "import matplotlib.pyplot as plt\n",
        "import math\n",
        "from matplotlib import cm\n",
        "from mpl_toolkits.mplot3d import Axes3D\n",
        "import seaborn as sns\n",
        "\n",
        "x1,x2,y,x3 = np.loadtxt(\"https://raw.githubusercontent.com/DanyelMorales/MLLearneerRepo/main/dataset/police.txt\",skiprows=1, unpack=True, dtype=np.float64)\n",
        "bias=np.ones(x1.size, dtype=np.float64)\n",
        "X = np.column_stack((bias,x1, x2, x3))\n",
        "Y = y.reshape(-1, 1)\n",
        "print(f\"Xshape={X.shape} yshape={y.shape} Yshape={Y.shape}\")\n"
      ]
    },
    {
      "cell_type": "code",
      "source": [
        "print(f\"x={X.dtype} y={Y.dtype} \")"
      ],
      "metadata": {
        "colab": {
          "base_uri": "https://localhost:8080/"
        },
        "id": "8NePQarl6X5j",
        "outputId": "07d55e95-59ce-47fd-f1d5-8db1679a4b06"
      },
      "execution_count": 2,
      "outputs": [
        {
          "output_type": "stream",
          "name": "stdout",
          "text": [
            "x=float64 y=float64 \n"
          ]
        }
      ]
    },
    {
      "cell_type": "code",
      "source": [
        "def forward(X,w):\n",
        "  return sigmoid(np.matmul(X,w))"
      ],
      "metadata": {
        "id": "A0L0JjeQ2sIS"
      },
      "execution_count": 3,
      "outputs": []
    },
    {
      "cell_type": "code",
      "source": [
        "def gradient(X,Y,w):\n",
        "  error=forward(X,w) - Y\n",
        "  return np.matmul(X.T, (error)) / X.shape[0]"
      ],
      "metadata": {
        "id": "XRB-qQVS2wJT"
      },
      "execution_count": 4,
      "outputs": []
    },
    {
      "cell_type": "code",
      "source": [
        "def train(X,Y, iterations, lr):\n",
        "  w=np.zeros((X.shape[1], 1), dtype=np.float64)\n",
        "  for i in range(iterations):\n",
        "    print(f\"iteration {i} => loss {mse_loss(X,Y,w)}\")\n",
        "    w -= gradient(X, Y, w) * lr\n",
        "  return w"
      ],
      "metadata": {
        "id": "Q7FXkm3s2yl8"
      },
      "execution_count": 5,
      "outputs": []
    },
    {
      "cell_type": "code",
      "source": [
        "def sigmoid(z):\n",
        "  return 1/ (1 + np.exp(-z))"
      ],
      "metadata": {
        "id": "6jZQY45SSGxh"
      },
      "execution_count": 6,
      "outputs": []
    },
    {
      "cell_type": "code",
      "source": [
        "def classify(X,w):\n",
        "  return np.round(forward(X,w))"
      ],
      "metadata": {
        "id": "dBlKXlpXSG9V"
      },
      "execution_count": 7,
      "outputs": []
    },
    {
      "cell_type": "code",
      "source": [
        "def test(X,Y,w):\n",
        "  total_examples = X.shape[0]\n",
        "  correct_results = np.sum(classify(X,w) == Y)\n",
        "  success_pct = correct_results * 100 / total_examples\n",
        "  print(f\"Success: {correct_results} {total_examples} {success_pct}\")"
      ],
      "metadata": {
        "id": "9KKGhcfptyjM"
      },
      "execution_count": null,
      "outputs": []
    },
    {
      "cell_type": "code",
      "source": [
        "def mse_loss(X,Y,w):\n",
        "  return np.average((forward(X,w) - Y) ** 2)"
      ],
      "metadata": {
        "id": "DHS77sh8SzcZ"
      },
      "execution_count": 8,
      "outputs": []
    },
    {
      "cell_type": "code",
      "source": [
        "def log_loss(X,Y,w):\n",
        "  y_hat = forward(X,w)\n",
        "  first_term = Y * np.log(y_hat)\n",
        "  second_term = (1 - Y) * np.log(1 - y_hat)\n",
        "  return -np.average(first_term + second_term)"
      ],
      "metadata": {
        "id": "lNcfKoKgVpu1"
      },
      "execution_count": 9,
      "outputs": []
    },
    {
      "cell_type": "code",
      "source": [
        "def prepare_axes():\n",
        "    ax = plt.figure().add_subplot(projection = '3d')\n",
        "    ax.clear()\n",
        "    ax.set_zticklabels(())\n",
        "    ax.set_xlabel(\"w1\", labelpad=15, fontsize=30)\n",
        "    ax.set_ylabel(\"w2\", labelpad=15, fontsize=30)\n",
        "    ax.set_zlabel(\"Loss\", labelpad=15, fontsize=30)\n",
        "    ax.view_init(30, 120)\n",
        "    return ax"
      ],
      "metadata": {
        "id": "vVZCjpayTv8e"
      },
      "execution_count": 10,
      "outputs": []
    },
    {
      "cell_type": "code",
      "source": [
        "# Come up with some plausible data\n",
        "n_examples = 20\n",
        "np.random.seed(1234)\n",
        "X = np.random.rand(n_examples, 2)\n",
        "w = [1.23, 2.34]\n",
        "Y = np.dot(X, w)\n",
        "Y_binary = np.greater_equal(Y, np.median(Y)).astype(int)\n",
        "\n",
        "# Prepare plot\n",
        "MESH_SIZE = 400\n",
        "sns.set(rc={\"axes.facecolor\": \"white\", \"figure.facecolor\": \"white\"})\n",
        "\n",
        "# Plot mean squared error loss\n",
        "ax = prepare_axes()\n",
        "plt.title(\"Mean Squared Error Loss\", fontsize=30)\n",
        "view_range = 100    # Wide range to see the creeks and valleys\n",
        "W1, W2 = np.meshgrid(np.linspace(-view_range, view_range, MESH_SIZE),\n",
        "                     np.linspace(-view_range, view_range, MESH_SIZE))\n",
        "losses = np.array([log_loss(X, Y_binary, [w1, w2]) for w1, w2\n",
        "                   in zip(np.ravel(W1), np.ravel(W2))])\n",
        "L = losses.reshape((MESH_SIZE, MESH_SIZE))\n",
        "ax.plot_surface(W1, W2, L, cmap=cm.autumn, edgecolors='black',\n",
        "                vmax=np.max(L), linewidth=0.2, antialiased=True)\n",
        "plt.ion()\n",
        "plt.show()\n",
        "input(\"Press <Enter>...\")\n",
        "\n",
        "# Plot logarithmic loss\n",
        "ax = prepare_axes()\n",
        "plt.title(\"Log Loss\", fontsize=30)\n",
        "view_range = 20    # Tight range to avoid overflows\n",
        "W1, W2 = np.meshgrid(np.linspace(-view_range, view_range, MESH_SIZE),\n",
        "                     np.linspace(-view_range, view_range, MESH_SIZE))\n",
        "losses = np.array([sigmoid(X, Y_binary, [w1, w2]) for w1, w2 in\n",
        "                   zip(np.ravel(W1), np.ravel(W2))])\n",
        "L = losses.reshape((MESH_SIZE, MESH_SIZE))\n",
        "ax.plot_surface(W1, W2, L, cmap=cm.autumn, edgecolors='black',\n",
        "                vmax=np.max(L), linewidth=0.2, antialiased=True)\n",
        "plt.show()\n",
        "input(\"Enter to exit...\")\n"
      ],
      "metadata": {
        "id": "C_YYiZ3zSzpT",
        "outputId": "fa4a2683-bc08-4191-9db0-7c66883397ad",
        "colab": {
          "base_uri": "https://localhost:8080/",
          "height": 762
        }
      },
      "execution_count": 11,
      "outputs": [
        {
          "output_type": "error",
          "ename": "TypeError",
          "evalue": "log_loss() missing 2 required positional arguments: 'Y' and 'w'",
          "traceback": [
            "\u001b[0;31m---------------------------------------------------------------------------\u001b[0m",
            "\u001b[0;31mTypeError\u001b[0m                                 Traceback (most recent call last)",
            "\u001b[0;32m<ipython-input-11-cb5054ac03a4>\u001b[0m in \u001b[0;36m<cell line: 19>\u001b[0;34m()\u001b[0m\n\u001b[1;32m     17\u001b[0m W1, W2 = np.meshgrid(np.linspace(-view_range, view_range, MESH_SIZE),\n\u001b[1;32m     18\u001b[0m                      np.linspace(-view_range, view_range, MESH_SIZE))\n\u001b[0;32m---> 19\u001b[0;31m losses = np.array([log_loss(X, Y_binary, [w1, w2]) for w1, w2\n\u001b[0m\u001b[1;32m     20\u001b[0m                    in zip(np.ravel(W1), np.ravel(W2))])\n\u001b[1;32m     21\u001b[0m \u001b[0mL\u001b[0m \u001b[0;34m=\u001b[0m \u001b[0mlosses\u001b[0m\u001b[0;34m.\u001b[0m\u001b[0mreshape\u001b[0m\u001b[0;34m(\u001b[0m\u001b[0;34m(\u001b[0m\u001b[0mMESH_SIZE\u001b[0m\u001b[0;34m,\u001b[0m \u001b[0mMESH_SIZE\u001b[0m\u001b[0;34m)\u001b[0m\u001b[0;34m)\u001b[0m\u001b[0;34m\u001b[0m\u001b[0;34m\u001b[0m\u001b[0m\n",
            "\u001b[0;32m<ipython-input-11-cb5054ac03a4>\u001b[0m in \u001b[0;36m<listcomp>\u001b[0;34m(.0)\u001b[0m\n\u001b[1;32m     17\u001b[0m W1, W2 = np.meshgrid(np.linspace(-view_range, view_range, MESH_SIZE),\n\u001b[1;32m     18\u001b[0m                      np.linspace(-view_range, view_range, MESH_SIZE))\n\u001b[0;32m---> 19\u001b[0;31m losses = np.array([log_loss(X, Y_binary, [w1, w2]) for w1, w2\n\u001b[0m\u001b[1;32m     20\u001b[0m                    in zip(np.ravel(W1), np.ravel(W2))])\n\u001b[1;32m     21\u001b[0m \u001b[0mL\u001b[0m \u001b[0;34m=\u001b[0m \u001b[0mlosses\u001b[0m\u001b[0;34m.\u001b[0m\u001b[0mreshape\u001b[0m\u001b[0;34m(\u001b[0m\u001b[0;34m(\u001b[0m\u001b[0mMESH_SIZE\u001b[0m\u001b[0;34m,\u001b[0m \u001b[0mMESH_SIZE\u001b[0m\u001b[0;34m)\u001b[0m\u001b[0;34m)\u001b[0m\u001b[0;34m\u001b[0m\u001b[0;34m\u001b[0m\u001b[0m\n",
            "\u001b[0;32m<ipython-input-9-a116b60bc33a>\u001b[0m in \u001b[0;36mlog_loss\u001b[0;34m(X, Y, w)\u001b[0m\n\u001b[1;32m      1\u001b[0m \u001b[0;32mdef\u001b[0m \u001b[0mlog_loss\u001b[0m\u001b[0;34m(\u001b[0m\u001b[0mX\u001b[0m\u001b[0;34m,\u001b[0m\u001b[0mY\u001b[0m\u001b[0;34m,\u001b[0m\u001b[0mw\u001b[0m\u001b[0;34m)\u001b[0m\u001b[0;34m:\u001b[0m\u001b[0;34m\u001b[0m\u001b[0;34m\u001b[0m\u001b[0m\n\u001b[0;32m----> 2\u001b[0;31m   \u001b[0my_hat\u001b[0m \u001b[0;34m=\u001b[0m \u001b[0mforward\u001b[0m\u001b[0;34m(\u001b[0m\u001b[0mX\u001b[0m\u001b[0;34m,\u001b[0m\u001b[0mw\u001b[0m\u001b[0;34m)\u001b[0m\u001b[0;34m\u001b[0m\u001b[0;34m\u001b[0m\u001b[0m\n\u001b[0m\u001b[1;32m      3\u001b[0m   \u001b[0mfirst_term\u001b[0m \u001b[0;34m=\u001b[0m \u001b[0mY\u001b[0m \u001b[0;34m*\u001b[0m \u001b[0mnp\u001b[0m\u001b[0;34m.\u001b[0m\u001b[0mlog\u001b[0m\u001b[0;34m(\u001b[0m\u001b[0my_hat\u001b[0m\u001b[0;34m)\u001b[0m\u001b[0;34m\u001b[0m\u001b[0;34m\u001b[0m\u001b[0m\n\u001b[1;32m      4\u001b[0m   \u001b[0msecond_term\u001b[0m \u001b[0;34m=\u001b[0m \u001b[0;34m(\u001b[0m\u001b[0;36m1\u001b[0m \u001b[0;34m-\u001b[0m \u001b[0mY\u001b[0m\u001b[0;34m)\u001b[0m \u001b[0;34m*\u001b[0m \u001b[0mnp\u001b[0m\u001b[0;34m.\u001b[0m\u001b[0mlog\u001b[0m\u001b[0;34m(\u001b[0m\u001b[0;36m1\u001b[0m \u001b[0;34m-\u001b[0m \u001b[0my_hat\u001b[0m\u001b[0;34m)\u001b[0m\u001b[0;34m\u001b[0m\u001b[0;34m\u001b[0m\u001b[0m\n\u001b[1;32m      5\u001b[0m   \u001b[0;32mreturn\u001b[0m \u001b[0;34m-\u001b[0m\u001b[0mnp\u001b[0m\u001b[0;34m.\u001b[0m\u001b[0maverage\u001b[0m\u001b[0;34m(\u001b[0m\u001b[0mfirst_term\u001b[0m \u001b[0;34m+\u001b[0m \u001b[0msecond_term\u001b[0m\u001b[0;34m)\u001b[0m\u001b[0;34m\u001b[0m\u001b[0;34m\u001b[0m\u001b[0m\n",
            "\u001b[0;32m<ipython-input-3-2690aae9fb7d>\u001b[0m in \u001b[0;36mforward\u001b[0;34m(X, w)\u001b[0m\n\u001b[1;32m      1\u001b[0m \u001b[0;32mdef\u001b[0m \u001b[0mforward\u001b[0m\u001b[0;34m(\u001b[0m\u001b[0mX\u001b[0m\u001b[0;34m,\u001b[0m\u001b[0mw\u001b[0m\u001b[0;34m)\u001b[0m\u001b[0;34m:\u001b[0m\u001b[0;34m\u001b[0m\u001b[0;34m\u001b[0m\u001b[0m\n\u001b[0;32m----> 2\u001b[0;31m   \u001b[0;32mreturn\u001b[0m \u001b[0mlog_loss\u001b[0m\u001b[0;34m(\u001b[0m\u001b[0mnp\u001b[0m\u001b[0;34m.\u001b[0m\u001b[0mmatmul\u001b[0m\u001b[0;34m(\u001b[0m\u001b[0mX\u001b[0m\u001b[0;34m,\u001b[0m\u001b[0mw\u001b[0m\u001b[0;34m)\u001b[0m\u001b[0;34m)\u001b[0m\u001b[0;34m\u001b[0m\u001b[0;34m\u001b[0m\u001b[0m\n\u001b[0m",
            "\u001b[0;31mTypeError\u001b[0m: log_loss() missing 2 required positional arguments: 'Y' and 'w'"
          ]
        },
        {
          "output_type": "display_data",
          "data": {
            "text/plain": [
              "<Figure size 640x480 with 1 Axes>"
            ],
            "image/png": "[encoded data removed]"
          },
          "metadata": {}
        }
      ]
    },
    {
      "cell_type": "code",
      "source": [
        "w = train(X,Y, iterations=100_000, lr=0.00001)\n",
        "test(X,Y,w)"
      ],
      "metadata": {
        "id": "-w3wvUiU4BF-"
      },
      "execution_count": null,
      "outputs": []
    },
    {
      "cell_type": "code",
      "source": [
        "print(f\"weights:{w.T}\")\n",
        "print(f\"Water rate Predictions:\")\n",
        "pdWeights = []\n",
        "for i in range(5):\n",
        "  prediction={}\n",
        "  prediction[\"prediction\"] = forward(X[i], w)[0]\n",
        "  prediction[\"label\"] =Y[i][0]\n",
        "  print(f\"X[{i}] -> {prediction.get('prediction')} (label:{prediction['label']})\")\n",
        "  pdWeights.append(prediction)"
      ],
      "metadata": {
        "id": "OMmTE6O226T0"
      },
      "execution_count": null,
      "outputs": []
    },
    {
      "cell_type": "code",
      "source": [
        "import pandas as pd\n",
        "df = pd.DataFrame(pdWeights)\n",
        "df"
      ],
      "metadata": {
        "id": "SowNUKxb3Evu"
      },
      "execution_count": null,
      "outputs": []
    },
    {
      "cell_type": "code",
      "source": [
        "import pandas as pd\n",
        "df = pd.DataFrame(w.reshape(1,4), columns=[\"bias\", \"Pollution\",\"Healthcare\",\"Life expectancy\"])\n",
        "df"
      ],
      "metadata": {
        "id": "nJ3__a6x3EyE"
      },
      "execution_count": null,
      "outputs": []
    },
    {
      "cell_type": "code",
      "source": [
        "import matplotlib.pyplot as plt\n",
        "\n",
        "df.plot(kind=\"bar\")\n",
        "plt.title(\"Weights\")\n",
        "plt.show()"
      ],
      "metadata": {
        "id": "6t_Hv9U93E0a"
      },
      "execution_count": null,
      "outputs": []
    }
  ]
}