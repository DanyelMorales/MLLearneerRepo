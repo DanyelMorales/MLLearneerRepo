{
  "nbformat": 4,
  "nbformat_minor": 0,
  "metadata": {
    "colab": {
      "provenance": [],
      "authorship_tag": "ABX9TyPKUbM746eCSePGu3lg4u5Q",
      "include_colab_link": true
    },
    "kernelspec": {
      "name": "python3",
      "display_name": "Python 3"
    },
    "language_info": {
      "name": "python"
    }
  },
  "cells": [
    {
      "cell_type": "markdown",
      "metadata": {
        "id": "view-in-github",
        "colab_type": "text"
      },
      "source": [
        "<a href=\"https://colab.research.google.com/github/DanyelMorales/MLLearneerRepo/blob/main/utils/preparing_test_image.ipynb\" target=\"_parent\"><img src=\"https://colab.research.google.com/assets/colab-badge.svg\" alt=\"Open In Colab\"/></a>"
      ]
    },
    {
      "cell_type": "code",
      "source": [
        "import cv2\n",
        "import matplotlib.pyplot as plt\n",
        "import numpy as np\n",
        "\n",
        "def load_image(file):\n",
        "  test_image = cv2.imread(file)\n",
        "  plt.imshow(test_image)\n",
        "  plt.show()\n",
        "  img_resized = cv2.resize(test_image, (28, 28))\n",
        "  img_resized = cv2.bitwise_not(img_resized)\n",
        "  plt.imshow(img_resized, cmap='gray')\n",
        "  return img_resized\n"
      ],
      "metadata": {
        "id": "hMR-ekY6Ifoh"
      },
      "execution_count": null,
      "outputs": []
    },
    {
      "cell_type": "code",
      "source": [
        "from PIL import Image\n",
        "import os\n",
        "import numpy as np\n",
        "def generate_dataset(path_to_files, output_file_name):\n",
        "  vectorized_images = []\n",
        "  for _, file in enumerate(os.listdir(path_to_files)):\n",
        "      image = Image.open(path_to_files + file)\n",
        "      image_array = np.array(image)\n",
        "      vectorized_images.append(image_array)\n",
        "  # np.savez(\"./mnistlikedataset.npz\",DataX=vectorized_images_x,DataY=vectorized_images_Y)\n",
        "  np.savez(f\"./{output_file_name}.npz\",DataX=vectorized_images)\n",
        "\n",
        "\n",
        "def load_dataset(file_name):\n",
        "  with np.load(file_name) as data:\n",
        "      #load DataX as train_data\n",
        "      train_data = data['DataX']\n",
        "      print(train_data)\n",
        "\n",
        "def load_multi_dataset(file_name):\n",
        "  with np.load(file_name) as data:\n",
        "    train_data = data['DataX']\n",
        "    print(train_data)\n",
        "    test_data = data['DataY']\n",
        "    print(test_data)"
      ],
      "metadata": {
        "id": "9e3uXA7bJKub"
      },
      "execution_count": null,
      "outputs": []
    },
    {
      "cell_type": "code",
      "source": [],
      "metadata": {
        "id": "YbjncROaJ2lG"
      },
      "execution_count": null,
      "outputs": []
    }
  ]
}